{
 "cells": [
  {
   "cell_type": "code",
   "execution_count": null,
   "id": "8d7bc66d",
   "metadata": {},
   "outputs": [],
   "source": [
    "#This function calculates statistics on training data (number of training images provided in the dataset for each class)\n",
    "def traindata_statistics(data_dir):\n",
    "    \n",
    "    #Get the folders in the Train folder (Train folder consists of a folder for each class that contains the training data)\n",
    "    train_path = data_dir + \"/Train\"\n",
    "    folders = os.listdir(train_path)\n",
    "    \n",
    "    train_number = []\n",
    "    class_num = []\n",
    "    \n",
    "    #For each class, count the number of training images provided in the dataset.\n",
    "    for folder in folders:\n",
    "        train_files = os.listdir(train_path + '/' + folder)\n",
    "        train_number.append(len(train_files))\n",
    "        class_num.append(classes[int(folder)])\n",
    "        \n",
    "    #Sorting the dataset on the basis of the number of images in each class (for better visualization)\n",
    "    zipped_lists = zip(train_number, class_num)\n",
    "    sorted_pairs = sorted(zipped_lists)\n",
    "    tuples = zip(*sorted_pairs)\n",
    "    train_number, class_num = [ list(tuple) for tuple in  tuples]\n",
    "    \n",
    "    #Plotting the number of images in each class\n",
    "    plt.figure(figsize=(21,10))  \n",
    "    plt.bar(class_num, train_number)\n",
    "    plt.xticks(class_num, rotation='vertical')\n",
    "    plt.show()\n",
    "    \n",
    "    return sum(train_number)\n"
   ]
  }
 ],
 "metadata": {
  "kernelspec": {
   "display_name": "Python 3 (ipykernel)",
   "language": "python",
   "name": "python3"
  },
  "language_info": {
   "codemirror_mode": {
    "name": "ipython",
    "version": 3
   },
   "file_extension": ".py",
   "mimetype": "text/x-python",
   "name": "python",
   "nbconvert_exporter": "python",
   "pygments_lexer": "ipython3",
   "version": "3.9.7"
  }
 },
 "nbformat": 4,
 "nbformat_minor": 5
}
