{
 "cells": [
  {
   "cell_type": "code",
   "execution_count": null,
   "id": "b4cd22ae",
   "metadata": {},
   "outputs": [],
   "source": [
    "#This function loads the training data.\n",
    "def load_traindata(IMG_HEIGHT,IMG_WIDTH,num_of_classes,data_dir):\n",
    "    \n",
    "    image_data = []\n",
    "    image_labels = []\n",
    "    \n",
    "    #for each folder inside Train folder\n",
    "    for i in range(num_of_classes):\n",
    "        path = data_dir + '/Train/' + str(i)\n",
    "        images = os.listdir(path) #list all images inside the folder\n",
    "        \n",
    "        #read each image and convert it into a numpy array\n",
    "        for img in images:\n",
    "            image = cv2.imread(path + '/' + img)\n",
    "            image_fromarray = Image.fromarray(image, 'RGB')\n",
    "            resize_image = image_fromarray.resize((IMG_HEIGHT, IMG_WIDTH)) #rescale/resize the image\n",
    "            image_data.append(np.array(resize_image)) #append the image to image_data\n",
    "            image_labels.append(i) #append the corresponding label for that image\n",
    "                \n",
    "    #changing the list to numpy array\n",
    "    image_data = np.array(image_data)\n",
    "    image_labels = np.array(image_labels)\n",
    "    \n",
    "    print(image_data.shape, image_labels.shape)\n",
    "    \n",
    "    return(image_data,image_labels)\n"
   ]
  }
 ],
 "metadata": {
  "kernelspec": {
   "display_name": "Python 3 (ipykernel)",
   "language": "python",
   "name": "python3"
  },
  "language_info": {
   "codemirror_mode": {
    "name": "ipython",
    "version": 3
   },
   "file_extension": ".py",
   "mimetype": "text/x-python",
   "name": "python",
   "nbconvert_exporter": "python",
   "pygments_lexer": "ipython3",
   "version": "3.9.7"
  }
 },
 "nbformat": 4,
 "nbformat_minor": 5
}
