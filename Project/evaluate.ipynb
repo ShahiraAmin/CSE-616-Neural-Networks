{
 "cells": [
  {
   "cell_type": "code",
   "execution_count": null,
   "id": "678984c2",
   "metadata": {},
   "outputs": [],
   "source": [
    "#This function evaluates a given model on the test data. The function does the following:\n",
    "#1- makes predictions and prints the first 25 images in the test data and their corresponding predictions,\n",
    "#2- calculates the test accuracy (%) and prints it\n",
    "#3- calculates the confusion matrix and plots it\n",
    "def evaluate(X_test,y_test,model):\n",
    "    \n",
    "    #Make predictions given X_test images\n",
    "    pred_one_hot = model.predict(X_test)\n",
    "    pred = np.argmax(pred_one_hot,axis=1)\n",
    "\n",
    "    #Plot the first 25 images in the test data and their corresponding predictions\n",
    "    plt.figure(figsize = (25, 25))\n",
    "    \n",
    "    start_index = 0\n",
    "    for i in range(25):\n",
    "        plt.subplot(5, 5, i + 1)\n",
    "        plt.grid(False)\n",
    "        plt.xticks([])\n",
    "        plt.yticks([])\n",
    "        prediction = pred[start_index + i]\n",
    "        actual = y_test[start_index + i]\n",
    "        col = 'g'\n",
    "        if prediction != actual:\n",
    "            col = 'r'\n",
    "        plt.xlabel('Actual={} || Pred={}'.format(actual, prediction), color = col)\n",
    "        plt.imshow(X_test[start_index + i])\n",
    "    plt.show()\n",
    "            \n",
    "    #Calculate the test accuracy and print it\n",
    "    print('Test Data accuracy: ',accuracy_score(y_test, pred)*100)\n",
    "    \n",
    "    #Get the confusion matrix and plot it\n",
    "    cf = confusion_matrix(y_test, pred)\n",
    "    df_cm = pd.DataFrame(cf, index = classes,  columns = classes)\n",
    "    plt.figure(figsize = (20,20))\n",
    "    sns.heatmap(df_cm, annot=True)\n",
    "\n"
   ]
  }
 ],
 "metadata": {
  "kernelspec": {
   "display_name": "Python 3 (ipykernel)",
   "language": "python",
   "name": "python3"
  },
  "language_info": {
   "codemirror_mode": {
    "name": "ipython",
    "version": 3
   },
   "file_extension": ".py",
   "mimetype": "text/x-python",
   "name": "python",
   "nbconvert_exporter": "python",
   "pygments_lexer": "ipython3",
   "version": "3.9.7"
  }
 },
 "nbformat": 4,
 "nbformat_minor": 5
}
