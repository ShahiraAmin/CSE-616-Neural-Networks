{
 "cells": [
  {
   "cell_type": "code",
   "execution_count": null,
   "id": "0a1d1e3a",
   "metadata": {},
   "outputs": [],
   "source": [
    "#This function randomly shuffles data.\n",
    "def shuffle_data(image_data,image_labels):\n",
    "    shuffle_indexes = np.arange(image_data.shape[0]) #generate image indices using arrange\n",
    "    np.random.shuffle(shuffle_indexes) #shuffle indices\n",
    "    image_data = image_data[shuffle_indexes] #shuffle data\n",
    "    image_labels = image_labels[shuffle_indexes] #shuffle labels\n",
    "    \n",
    "    print(image_data.shape,image_labels.shape)\n",
    "    \n",
    "    #return shuffled data and labels\n",
    "    return image_data,image_labels"
   ]
  }
 ],
 "metadata": {
  "kernelspec": {
   "display_name": "Python 3 (ipykernel)",
   "language": "python",
   "name": "python3"
  },
  "language_info": {
   "codemirror_mode": {
    "name": "ipython",
    "version": 3
   },
   "file_extension": ".py",
   "mimetype": "text/x-python",
   "name": "python",
   "nbconvert_exporter": "python",
   "pygments_lexer": "ipython3",
   "version": "3.9.7"
  }
 },
 "nbformat": 4,
 "nbformat_minor": 5
}
