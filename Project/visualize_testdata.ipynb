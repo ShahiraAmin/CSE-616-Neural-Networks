{
 "cells": [
  {
   "cell_type": "code",
   "execution_count": null,
   "id": "6d44d975",
   "metadata": {},
   "outputs": [],
   "source": [
    "#This function visualizes 25 random images from the test data and prints the width and height of each image as x and y labels, resp.\n",
    "def visualize_testdata(data_dir):\n",
    "    \n",
    "    #load test.csv file\n",
    "    test = pd.read_csv(data_dir + '/Test.csv')\n",
    "    imgs = test[\"Path\"].values\n",
    "    \n",
    "    #Plotting 25 random images from the test data and printing the width and height of each image as x and y labels, resp.\n",
    "    plt.figure(figsize=(25,25))\n",
    "    for i in range(1,26):\n",
    "        plt.subplot(5,5,i)\n",
    "        random_img_path = data_dir + '/' + random.choice(imgs) #select a random image from test data\n",
    "        rand_img = imread(random_img_path) #read the image\n",
    "        plt.imshow(rand_img) #show the image\n",
    "        plt.grid(b=None)\n",
    "        plt.xlabel(rand_img.shape[1], fontsize = 20)#width of image as x label\n",
    "        plt.ylabel(rand_img.shape[0], fontsize = 20)#height of image as y label\n",
    "        "
   ]
  }
 ],
 "metadata": {
  "kernelspec": {
   "display_name": "Python 3 (ipykernel)",
   "language": "python",
   "name": "python3"
  },
  "language_info": {
   "codemirror_mode": {
    "name": "ipython",
    "version": 3
   },
   "file_extension": ".py",
   "mimetype": "text/x-python",
   "name": "python",
   "nbconvert_exporter": "python",
   "pygments_lexer": "ipython3",
   "version": "3.9.7"
  }
 },
 "nbformat": 4,
 "nbformat_minor": 5
}
