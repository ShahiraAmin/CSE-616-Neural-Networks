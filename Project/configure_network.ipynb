{
 "cells": [
  {
   "cell_type": "code",
   "execution_count": null,
   "id": "04a2d72b",
   "metadata": {},
   "outputs": [],
   "source": [
    "#This function configures the network parameters.\n",
    "def configure_network():\n",
    "    lr = 0.001 #learning rate\n",
    "    epochs = 30 #number of epochs\n",
    "    opt = Adam(learning_rate=lr, decay=lr / (epochs * 0.5)) #optimizer\n",
    "    batch_size = 50 #batch size\n",
    "    \n",
    "    return lr,opt,epochs,batch_size"
   ]
  }
 ],
 "metadata": {
  "kernelspec": {
   "display_name": "Python 3 (ipykernel)",
   "language": "python",
   "name": "python3"
  },
  "language_info": {
   "codemirror_mode": {
    "name": "ipython",
    "version": 3
   },
   "file_extension": ".py",
   "mimetype": "text/x-python",
   "name": "python",
   "nbconvert_exporter": "python",
   "pygments_lexer": "ipython3",
   "version": "3.9.7"
  }
 },
 "nbformat": 4,
 "nbformat_minor": 5
}
