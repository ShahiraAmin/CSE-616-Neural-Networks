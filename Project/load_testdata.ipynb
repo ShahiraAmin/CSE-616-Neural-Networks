{
 "cells": [
  {
   "cell_type": "code",
   "execution_count": null,
   "id": "ae80db58",
   "metadata": {},
   "outputs": [],
   "source": [
    "#This function loads the test data.\n",
    "def load_testdata(IMG_HEIGHT,IMG_WIDTH,data_dir):\n",
    "    \n",
    "    test = pd.read_csv(data_dir + '/Test.csv') #load test data\n",
    "    \n",
    "    labels = test[\"ClassId\"].values\n",
    "    imgs = test[\"Path\"].values\n",
    "    \n",
    "    data =[]\n",
    "  \n",
    "    #convert image to numpy array\n",
    "    for img in imgs:\n",
    "        image = cv2.imread(data_dir + '/' +img)\n",
    "        image_fromarray = Image.fromarray(image, 'RGB')\n",
    "        resize_image = image_fromarray.resize((IMG_HEIGHT, IMG_WIDTH)) #resize image\n",
    "        data.append(np.array(resize_image))\n",
    "    \n",
    "    X_test = np.array(data)\n",
    "    X_test = X_test/255 #normalize image\n",
    "    \n",
    "    print(X_test.shape,labels.shape)\n",
    "        \n",
    "    return X_test, labels"
   ]
  }
 ],
 "metadata": {
  "kernelspec": {
   "display_name": "Python 3 (ipykernel)",
   "language": "python",
   "name": "python3"
  },
  "language_info": {
   "codemirror_mode": {
    "name": "ipython",
    "version": 3
   },
   "file_extension": ".py",
   "mimetype": "text/x-python",
   "name": "python",
   "nbconvert_exporter": "python",
   "pygments_lexer": "ipython3",
   "version": "3.9.7"
  }
 },
 "nbformat": 4,
 "nbformat_minor": 5
}
