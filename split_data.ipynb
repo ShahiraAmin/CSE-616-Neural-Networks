{
 "cells": [
  {
   "cell_type": "code",
   "execution_count": null,
   "id": "247de964",
   "metadata": {},
   "outputs": [],
   "source": [
    "#This function splits the training data into training set and validation set\n",
    "def split_data(image_data,image_labels):\n",
    "    X_train, X_val, y_train, y_val = train_test_split(image_data, image_labels, test_size=0.3, random_state=42, shuffle=True)\n",
    "    \n",
    "    #Normalize the data\n",
    "    X_train = X_train/255 \n",
    "    X_val = X_val/255\n",
    "    \n",
    "    print(\"X_train.shape\", X_train.shape)\n",
    "    print(\"X_valid.shape\", X_val.shape)\n",
    "    print(\"y_train.shape\", y_train.shape)\n",
    "    print(\"y_valid.shape\", y_val.shape)\n",
    "    \n",
    "    return X_train, X_val, y_train, y_val\n"
   ]
  }
 ],
 "metadata": {
  "kernelspec": {
   "display_name": "Python 3 (ipykernel)",
   "language": "python",
   "name": "python3"
  },
  "language_info": {
   "codemirror_mode": {
    "name": "ipython",
    "version": 3
   },
   "file_extension": ".py",
   "mimetype": "text/x-python",
   "name": "python",
   "nbconvert_exporter": "python",
   "pygments_lexer": "ipython3",
   "version": "3.9.7"
  }
 },
 "nbformat": 4,
 "nbformat_minor": 5
}
