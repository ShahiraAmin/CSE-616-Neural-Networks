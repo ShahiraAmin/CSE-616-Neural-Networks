{
 "cells": [
  {
   "cell_type": "code",
   "execution_count": null,
   "id": "1c9517f0",
   "metadata": {},
   "outputs": [],
   "source": [
    "def create_model_3(IMG_HEIGHT,IMG_WIDTH,channels):\n",
    "    model = Sequential()    \n",
    "    model.add(Conv2D(16, (3,3), strides=2, input_shape=(IMG_HEIGHT,IMG_WIDTH,channels), activation='elu'))\n",
    "    model.add(Conv2D(32, (3,3), strides=2, activation='elu'))\n",
    "    model.add(Conv2D(64, (3, 3), strides=2, activation='elu'))\n",
    "    model.add(Flatten())\n",
    "    model.add(Dense(512, activation='elu'))\n",
    "    model.add(Dense(43, activation='softmax'))\n",
    "\n",
    "    model.summary()\n",
    "    \n",
    "    return model"
   ]
  }
 ],
 "metadata": {
  "kernelspec": {
   "display_name": "Python 3 (ipykernel)",
   "language": "python",
   "name": "python3"
  },
  "language_info": {
   "codemirror_mode": {
    "name": "ipython",
    "version": 3
   },
   "file_extension": ".py",
   "mimetype": "text/x-python",
   "name": "python",
   "nbconvert_exporter": "python",
   "pygments_lexer": "ipython3",
   "version": "3.9.7"
  }
 },
 "nbformat": 4,
 "nbformat_minor": 5
}
